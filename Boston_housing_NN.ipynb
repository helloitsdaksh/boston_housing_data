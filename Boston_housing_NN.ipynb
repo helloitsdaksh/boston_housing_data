{
  "nbformat": 4,
  "nbformat_minor": 0,
  "metadata": {
    "colab": {
      "name": "Boston_housing_NN.ipynb",
      "provenance": [],
      "collapsed_sections": []
    },
    "kernelspec": {
      "name": "python3",
      "display_name": "Python 3"
    },
    "language_info": {
      "name": "python"
    }
  },
  "cells": [
    {
      "cell_type": "code",
      "metadata": {
        "id": "hLEAj8m788UT"
      },
      "source": [
        "import tensorflow as tf\n",
        "import pandas as pd\n",
        "import matplotlib.pyplot as plt\n"
      ],
      "execution_count": 7,
      "outputs": []
    },
    {
      "cell_type": "code",
      "metadata": {
        "colab": {
          "base_uri": "https://localhost:8080/"
        },
        "id": "tr_ZiXXb8t4Q",
        "outputId": "46afcb7d-3956-40ad-fa0a-81682ebe25c6"
      },
      "source": [
        "#import the data\n",
        "\n",
        "(X_train, y_train), (X_test, y_test) = tf.keras.datasets.boston_housing.load_data(\n",
        "    path='boston_housing.npz', test_split=0.2, seed=113\n",
        ")"
      ],
      "execution_count": 3,
      "outputs": [
        {
          "output_type": "stream",
          "text": [
            "Downloading data from https://storage.googleapis.com/tensorflow/tf-keras-datasets/boston_housing.npz\n",
            "57344/57026 [==============================] - 0s 0us/step\n"
          ],
          "name": "stdout"
        }
      ]
    },
    {
      "cell_type": "code",
      "metadata": {
        "colab": {
          "base_uri": "https://localhost:8080/"
        },
        "id": "1a47FHyn875M",
        "outputId": "01267829-6999-46ff-c81d-f6ab989fa0eb"
      },
      "source": [
        "tf.random.set_seed(42)\n",
        "\n",
        "model_4 = tf.keras.Sequential([\n",
        " tf.keras.layers.Dense(13, input_dim=13, kernel_initializer='normal', activation='relu'),\n",
        " tf.keras.layers.Dense(6, kernel_initializer='normal', activation='relu'),\n",
        " tf.keras.layers.Dense(1, kernel_initializer='normal')\n",
        "])\n",
        "\n",
        "model_4.compile(loss = 'mae',\n",
        "                optimizer = tf.keras.optimizers.Adam(),\n",
        "                metrics = 'mae')\n",
        "\n",
        "history_4 = model_4.fit(X_train, y_train,epochs = 100)"
      ],
      "execution_count": 13,
      "outputs": [
        {
          "output_type": "stream",
          "text": [
            "Epoch 1/100\n",
            "13/13 [==============================] - 0s 2ms/step - loss: 22.5058 - mae: 22.5058\n",
            "Epoch 2/100\n",
            "13/13 [==============================] - 0s 2ms/step - loss: 22.2494 - mae: 22.2494\n",
            "Epoch 3/100\n",
            "13/13 [==============================] - 0s 2ms/step - loss: 21.6207 - mae: 21.6207\n",
            "Epoch 4/100\n",
            "13/13 [==============================] - 0s 2ms/step - loss: 19.7909 - mae: 19.7909\n",
            "Epoch 5/100\n",
            "13/13 [==============================] - 0s 2ms/step - loss: 15.6861 - mae: 15.6861\n",
            "Epoch 6/100\n",
            "13/13 [==============================] - 0s 2ms/step - loss: 10.4729 - mae: 10.4729\n",
            "Epoch 7/100\n",
            "13/13 [==============================] - 0s 2ms/step - loss: 8.5451 - mae: 8.5451\n",
            "Epoch 8/100\n",
            "13/13 [==============================] - 0s 2ms/step - loss: 8.0645 - mae: 8.0645\n",
            "Epoch 9/100\n",
            "13/13 [==============================] - 0s 2ms/step - loss: 7.4524 - mae: 7.4524\n",
            "Epoch 10/100\n",
            "13/13 [==============================] - 0s 2ms/step - loss: 6.9664 - mae: 6.9664\n",
            "Epoch 11/100\n",
            "13/13 [==============================] - 0s 2ms/step - loss: 6.5410 - mae: 6.5410\n",
            "Epoch 12/100\n",
            "13/13 [==============================] - 0s 2ms/step - loss: 6.2243 - mae: 6.2243\n",
            "Epoch 13/100\n",
            "13/13 [==============================] - 0s 3ms/step - loss: 6.0033 - mae: 6.0033\n",
            "Epoch 14/100\n",
            "13/13 [==============================] - 0s 2ms/step - loss: 5.7722 - mae: 5.7722\n",
            "Epoch 15/100\n",
            "13/13 [==============================] - 0s 2ms/step - loss: 5.6267 - mae: 5.6267\n",
            "Epoch 16/100\n",
            "13/13 [==============================] - 0s 2ms/step - loss: 5.4938 - mae: 5.4938\n",
            "Epoch 17/100\n",
            "13/13 [==============================] - 0s 2ms/step - loss: 5.4004 - mae: 5.4004\n",
            "Epoch 18/100\n",
            "13/13 [==============================] - 0s 2ms/step - loss: 5.3218 - mae: 5.3218\n",
            "Epoch 19/100\n",
            "13/13 [==============================] - 0s 2ms/step - loss: 5.2615 - mae: 5.2615\n",
            "Epoch 20/100\n",
            "13/13 [==============================] - 0s 2ms/step - loss: 5.2291 - mae: 5.2291\n",
            "Epoch 21/100\n",
            "13/13 [==============================] - 0s 2ms/step - loss: 5.1888 - mae: 5.1888\n",
            "Epoch 22/100\n",
            "13/13 [==============================] - 0s 2ms/step - loss: 5.1464 - mae: 5.1464\n",
            "Epoch 23/100\n",
            "13/13 [==============================] - 0s 2ms/step - loss: 5.1451 - mae: 5.1451\n",
            "Epoch 24/100\n",
            "13/13 [==============================] - 0s 2ms/step - loss: 5.1320 - mae: 5.1320\n",
            "Epoch 25/100\n",
            "13/13 [==============================] - 0s 2ms/step - loss: 5.0679 - mae: 5.0679\n",
            "Epoch 26/100\n",
            "13/13 [==============================] - 0s 2ms/step - loss: 5.0450 - mae: 5.0450\n",
            "Epoch 27/100\n",
            "13/13 [==============================] - 0s 2ms/step - loss: 5.0114 - mae: 5.0114\n",
            "Epoch 28/100\n",
            "13/13 [==============================] - 0s 2ms/step - loss: 5.0047 - mae: 5.0047\n",
            "Epoch 29/100\n",
            "13/13 [==============================] - 0s 2ms/step - loss: 5.0068 - mae: 5.0068\n",
            "Epoch 30/100\n",
            "13/13 [==============================] - 0s 2ms/step - loss: 4.9874 - mae: 4.9874\n",
            "Epoch 31/100\n",
            "13/13 [==============================] - 0s 3ms/step - loss: 4.9831 - mae: 4.9831\n",
            "Epoch 32/100\n",
            "13/13 [==============================] - 0s 3ms/step - loss: 4.9355 - mae: 4.9355\n",
            "Epoch 33/100\n",
            "13/13 [==============================] - 0s 2ms/step - loss: 4.9151 - mae: 4.9151\n",
            "Epoch 34/100\n",
            "13/13 [==============================] - 0s 2ms/step - loss: 4.9176 - mae: 4.9176\n",
            "Epoch 35/100\n",
            "13/13 [==============================] - 0s 2ms/step - loss: 4.9014 - mae: 4.9014\n",
            "Epoch 36/100\n",
            "13/13 [==============================] - 0s 2ms/step - loss: 4.9488 - mae: 4.9488\n",
            "Epoch 37/100\n",
            "13/13 [==============================] - 0s 2ms/step - loss: 4.8921 - mae: 4.8921\n",
            "Epoch 38/100\n",
            "13/13 [==============================] - 0s 2ms/step - loss: 4.8509 - mae: 4.8509\n",
            "Epoch 39/100\n",
            "13/13 [==============================] - 0s 2ms/step - loss: 4.8379 - mae: 4.8379\n",
            "Epoch 40/100\n",
            "13/13 [==============================] - 0s 2ms/step - loss: 4.8264 - mae: 4.8264\n",
            "Epoch 41/100\n",
            "13/13 [==============================] - 0s 2ms/step - loss: 4.8270 - mae: 4.8270\n",
            "Epoch 42/100\n",
            "13/13 [==============================] - 0s 2ms/step - loss: 4.7895 - mae: 4.7895\n",
            "Epoch 43/100\n",
            "13/13 [==============================] - 0s 2ms/step - loss: 4.7997 - mae: 4.7997\n",
            "Epoch 44/100\n",
            "13/13 [==============================] - 0s 2ms/step - loss: 4.7772 - mae: 4.7772\n",
            "Epoch 45/100\n",
            "13/13 [==============================] - 0s 2ms/step - loss: 4.7878 - mae: 4.7878\n",
            "Epoch 46/100\n",
            "13/13 [==============================] - 0s 2ms/step - loss: 4.7395 - mae: 4.7395\n",
            "Epoch 47/100\n",
            "13/13 [==============================] - 0s 2ms/step - loss: 4.7410 - mae: 4.7410\n",
            "Epoch 48/100\n",
            "13/13 [==============================] - 0s 3ms/step - loss: 4.7431 - mae: 4.7431\n",
            "Epoch 49/100\n",
            "13/13 [==============================] - 0s 2ms/step - loss: 4.6984 - mae: 4.6984\n",
            "Epoch 50/100\n",
            "13/13 [==============================] - 0s 3ms/step - loss: 4.7086 - mae: 4.7086\n",
            "Epoch 51/100\n",
            "13/13 [==============================] - 0s 2ms/step - loss: 4.7397 - mae: 4.7397\n",
            "Epoch 52/100\n",
            "13/13 [==============================] - 0s 2ms/step - loss: 4.7333 - mae: 4.7333\n",
            "Epoch 53/100\n",
            "13/13 [==============================] - 0s 2ms/step - loss: 4.6695 - mae: 4.6695\n",
            "Epoch 54/100\n",
            "13/13 [==============================] - 0s 2ms/step - loss: 4.6412 - mae: 4.6412\n",
            "Epoch 55/100\n",
            "13/13 [==============================] - 0s 2ms/step - loss: 4.6225 - mae: 4.6225\n",
            "Epoch 56/100\n",
            "13/13 [==============================] - 0s 2ms/step - loss: 4.5972 - mae: 4.5972\n",
            "Epoch 57/100\n",
            "13/13 [==============================] - 0s 2ms/step - loss: 4.5870 - mae: 4.5870\n",
            "Epoch 58/100\n",
            "13/13 [==============================] - 0s 2ms/step - loss: 4.5860 - mae: 4.5860\n",
            "Epoch 59/100\n",
            "13/13 [==============================] - 0s 2ms/step - loss: 4.5373 - mae: 4.5373\n",
            "Epoch 60/100\n",
            "13/13 [==============================] - 0s 2ms/step - loss: 4.5801 - mae: 4.5801\n",
            "Epoch 61/100\n",
            "13/13 [==============================] - 0s 2ms/step - loss: 4.5489 - mae: 4.5489\n",
            "Epoch 62/100\n",
            "13/13 [==============================] - 0s 2ms/step - loss: 4.4946 - mae: 4.4946\n",
            "Epoch 63/100\n",
            "13/13 [==============================] - 0s 2ms/step - loss: 4.4851 - mae: 4.4851\n",
            "Epoch 64/100\n",
            "13/13 [==============================] - 0s 2ms/step - loss: 4.4761 - mae: 4.4761\n",
            "Epoch 65/100\n",
            "13/13 [==============================] - 0s 3ms/step - loss: 4.4545 - mae: 4.4545\n",
            "Epoch 66/100\n",
            "13/13 [==============================] - 0s 2ms/step - loss: 4.4247 - mae: 4.4247\n",
            "Epoch 67/100\n",
            "13/13 [==============================] - 0s 3ms/step - loss: 4.4172 - mae: 4.4172\n",
            "Epoch 68/100\n",
            "13/13 [==============================] - 0s 2ms/step - loss: 4.4176 - mae: 4.4176\n",
            "Epoch 69/100\n",
            "13/13 [==============================] - 0s 2ms/step - loss: 4.3782 - mae: 4.3782\n",
            "Epoch 70/100\n",
            "13/13 [==============================] - 0s 2ms/step - loss: 4.3838 - mae: 4.3838\n",
            "Epoch 71/100\n",
            "13/13 [==============================] - 0s 2ms/step - loss: 4.3602 - mae: 4.3602\n",
            "Epoch 72/100\n",
            "13/13 [==============================] - 0s 2ms/step - loss: 4.4354 - mae: 4.4354\n",
            "Epoch 73/100\n",
            "13/13 [==============================] - 0s 3ms/step - loss: 4.3838 - mae: 4.3838\n",
            "Epoch 74/100\n",
            "13/13 [==============================] - 0s 2ms/step - loss: 4.3392 - mae: 4.3392\n",
            "Epoch 75/100\n",
            "13/13 [==============================] - 0s 2ms/step - loss: 4.3138 - mae: 4.3138\n",
            "Epoch 76/100\n",
            "13/13 [==============================] - 0s 3ms/step - loss: 4.3025 - mae: 4.3025\n",
            "Epoch 77/100\n",
            "13/13 [==============================] - 0s 2ms/step - loss: 4.3871 - mae: 4.3871\n",
            "Epoch 78/100\n",
            "13/13 [==============================] - 0s 2ms/step - loss: 4.3992 - mae: 4.3992\n",
            "Epoch 79/100\n",
            "13/13 [==============================] - 0s 2ms/step - loss: 4.2576 - mae: 4.2576\n",
            "Epoch 80/100\n",
            "13/13 [==============================] - 0s 2ms/step - loss: 4.2827 - mae: 4.2827\n",
            "Epoch 81/100\n",
            "13/13 [==============================] - 0s 2ms/step - loss: 4.2169 - mae: 4.2169\n",
            "Epoch 82/100\n",
            "13/13 [==============================] - 0s 2ms/step - loss: 4.2933 - mae: 4.2933\n",
            "Epoch 83/100\n",
            "13/13 [==============================] - 0s 2ms/step - loss: 4.2511 - mae: 4.2511\n",
            "Epoch 84/100\n",
            "13/13 [==============================] - 0s 2ms/step - loss: 4.2750 - mae: 4.2750\n",
            "Epoch 85/100\n",
            "13/13 [==============================] - 0s 2ms/step - loss: 4.2510 - mae: 4.2510\n",
            "Epoch 86/100\n",
            "13/13 [==============================] - 0s 2ms/step - loss: 4.2082 - mae: 4.2082\n",
            "Epoch 87/100\n",
            "13/13 [==============================] - 0s 2ms/step - loss: 4.2543 - mae: 4.2543\n",
            "Epoch 88/100\n",
            "13/13 [==============================] - 0s 2ms/step - loss: 4.2964 - mae: 4.2964\n",
            "Epoch 89/100\n",
            "13/13 [==============================] - 0s 2ms/step - loss: 4.1948 - mae: 4.1948\n",
            "Epoch 90/100\n",
            "13/13 [==============================] - 0s 2ms/step - loss: 4.1519 - mae: 4.1519\n",
            "Epoch 91/100\n",
            "13/13 [==============================] - 0s 2ms/step - loss: 4.1590 - mae: 4.1590\n",
            "Epoch 92/100\n",
            "13/13 [==============================] - 0s 2ms/step - loss: 4.1940 - mae: 4.1940\n",
            "Epoch 93/100\n",
            "13/13 [==============================] - 0s 2ms/step - loss: 4.2839 - mae: 4.2839\n",
            "Epoch 94/100\n",
            "13/13 [==============================] - 0s 2ms/step - loss: 4.1168 - mae: 4.1168\n",
            "Epoch 95/100\n",
            "13/13 [==============================] - 0s 2ms/step - loss: 4.1612 - mae: 4.1612\n",
            "Epoch 96/100\n",
            "13/13 [==============================] - 0s 2ms/step - loss: 4.1146 - mae: 4.1146\n",
            "Epoch 97/100\n",
            "13/13 [==============================] - 0s 2ms/step - loss: 4.1177 - mae: 4.1177\n",
            "Epoch 98/100\n",
            "13/13 [==============================] - 0s 2ms/step - loss: 4.0696 - mae: 4.0696\n",
            "Epoch 99/100\n",
            "13/13 [==============================] - 0s 3ms/step - loss: 4.1235 - mae: 4.1235\n",
            "Epoch 100/100\n",
            "13/13 [==============================] - 0s 2ms/step - loss: 4.0876 - mae: 4.0876\n"
          ],
          "name": "stdout"
        }
      ]
    },
    {
      "cell_type": "code",
      "metadata": {
        "colab": {
          "base_uri": "https://localhost:8080/",
          "height": 297
        },
        "id": "zE6a_RyU80fR",
        "outputId": "e606876b-e376-4761-be28-c005d915f765"
      },
      "source": [
        "pd.DataFrame(history_4.history).plot()\n",
        "plt.xlabel(\"epochs\")\n",
        "plt.ylabel(\"loss\")\n"
      ],
      "execution_count": 14,
      "outputs": [
        {
          "output_type": "execute_result",
          "data": {
            "text/plain": [
              "Text(0, 0.5, 'loss')"
            ]
          },
          "metadata": {
            "tags": []
          },
          "execution_count": 14
        },
        {
          "output_type": "display_data",
          "data": {
            "image/png": "[encoded data removed]",
            "text/plain": [
              "<Figure size 432x288 with 1 Axes>"
            ]
          },
          "metadata": {
            "tags": [],
            "needs_background": "light"
          }
        }
      ]
    },
    {
      "cell_type": "code",
      "metadata": {
        "colab": {
          "base_uri": "https://localhost:8080/"
        },
        "id": "IMqfjZYx926Y",
        "outputId": "0a8de874-aaa2-4495-fc57-e7c2c2dcb208"
      },
      "source": [
        "model_4.evaluate(X_test,y_test)"
      ],
      "execution_count": 15,
      "outputs": [
        {
          "output_type": "stream",
          "text": [
            "4/4 [==============================] - 0s 4ms/step - loss: 4.6029 - mae: 4.6029\n"
          ],
          "name": "stdout"
        },
        {
          "output_type": "execute_result",
          "data": {
            "text/plain": [
              "[4.602909564971924, 4.602909564971924]"
            ]
          },
          "metadata": {
            "tags": []
          },
          "execution_count": 15
        }
      ]
    },
    {
      "cell_type": "code",
      "metadata": {
        "id": "h1SvfHGO_DI4"
      },
      "source": [
        ""
      ],
      "execution_count": null,
      "outputs": []
    }
  ]
}